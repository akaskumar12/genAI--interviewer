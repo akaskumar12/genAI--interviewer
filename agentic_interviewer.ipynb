{
 "cells": [
  {
   "cell_type": "markdown",
   "id": "a9aebef3",
   "metadata": {},
   "source": [
    "# GenAI Virtual Interviewer 💬🤖\n",
    "Proof-of-Concept for AI-driven virtual interviews using resume parsing, RAG, and LLM-based response evaluation.\n"
   ]
  },
  {
   "cell_type": "code",
   "execution_count": null,
   "id": "e3a7fa2e",
   "metadata": {},
   "outputs": [],
   "source": [
    "# Install dependencies\n",
    "!pip install pdfplumber sentence-transformers faiss-cpu openai\n"
   ]
  },
  {
   "cell_type": "markdown",
   "id": "7c9235a4",
   "metadata": {},
   "source": [
    "## Configuration\n"
   ]
  },
  {
   "cell_type": "code",
   "execution_count": null,
   "id": "099881ff",
   "metadata": {},
   "outputs": [],
   "source": [
    "import openai\n",
    "import os\n",
    "\n",
    "# Set your OpenAI API Key\n",
    "openai.api_key = \"sk-...\"  # Replace this with your actual key\n",
    "\n"
   ]
  },
  {
   "cell_type": "markdown",
   "id": "a360e314",
   "metadata": {},
   "source": [
    "## 📥 Load Resume CSV"
   ]
  },
  {
   "cell_type": "code",
   "execution_count": null,
   "id": "163c70ec",
   "metadata": {},
   "outputs": [],
   "source": [
    "df = pd.read_csv(\"resumes.csv\")  # Replace with your actual file path\n",
    "\n",
    "# Make sure the column name is correct\n",
    "if 'resume_text' not in df.columns:\n",
    "    raise ValueError(\"Expected column 'resume_text' not found in the CSV!\")\n"
   ]
  },
  {
   "cell_type": "markdown",
   "id": "3a45d900",
   "metadata": {},
   "source": [
    "## LLM-Based Question Generation "
   ]
  },
  {
   "cell_type": "code",
   "execution_count": null,
   "id": "ce89088d",
   "metadata": {},
   "outputs": [],
   "source": [
    "def generate_questions_llm(resume_text):\n",
    "    prompt = f\"\"\"\n",
    "    You are an AI interviewer. Based on the candidate's resume below, generate 3 specific and insightful interview questions.\n",
    "\n",
    "    Resume:\n",
    "    {resume_text[:1500]}\n",
    "\n",
    "    Questions:\n",
    "    \"\"\"\n",
    "    response = openai.ChatCompletion.create(\n",
    "        model=\"gpt-4\",  # or \"gpt-3.5-turbo\"\n",
    "        messages=[{\"role\": \"user\", \"content\": prompt}],\n",
    "        temperature=0.7\n",
    "    )\n",
    "    return response['choices'][0]['message']['content'].split('\\n')\n"
   ]
  },
  {
   "cell_type": "markdown",
   "id": "3d40ea85",
   "metadata": {},
   "source": [
    "## 🔁 Run for All CSV Rows\n",
    "\n",
    "\n"
   ]
  },
  {
   "cell_type": "code",
   "execution_count": null,
   "id": "f94a4698",
   "metadata": {},
   "outputs": [],
   "source": [
    "for idx, row in df.iterrows():\n",
    "    name = row.get(\"name\", f\"Candidate_{idx+1}\")\n",
    "    resume_text = row[\"resume_text\"]\n",
    "\n",
    "    print(f\"\\n🧑‍💼 Candidate: {name}\")\n",
    "    questions = generate_questions_llm(resume_text)\n",
    "\n",
    "    for i, q in enumerate(questions, 1):\n",
    "        print(f\"Q{i}: {q}\")\n",
    "\n",
    "    # Optional: Answer + score\n",
    "    answer = input(\"Your Answer: \")\n",
    "    print(\"Score:\", score_response(answer))\n"
   ]
  },
  {
   "cell_type": "markdown",
   "id": "c950c9b7",
   "metadata": {},
   "source": [
    "## 🧪 Simple Scoring Function\n"
   ]
  },
  {
   "cell_type": "code",
   "execution_count": null,
   "id": "37c0c17b",
   "metadata": {},
   "outputs": [],
   "source": [
    "def score_response(answer):\n",
    "    keywords = ['team', 'project', 'solved', 'led', 'improved']\n",
    "    score = sum(1 for word in keywords if word in answer.lower())\n",
    "    return f'{score}/5'\n"
   ]
  }
 ],
 "metadata": {
  "language_info": {
   "name": "python"
  }
 },
 "nbformat": 4,
 "nbformat_minor": 5
}
